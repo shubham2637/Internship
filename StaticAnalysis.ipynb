{
 "cells": [
  {
   "cell_type": "code",
   "execution_count": 5,
   "metadata": {},
   "outputs": [],
   "source": [
    "import tweepy\n",
    "consumer_key = \"xydSNCHSXfxQy9OjrkMxOl2NL\"\n",
    "consumer_secret = \"SQJirubS0PZl49zMbWnQgqHbyuRUIi3L9oWFWB8ncl05RoxcrF\"\n",
    "access_token = \"574351903-SirnPuk7fIlK3jv291U0rEHKkiXuOchA6RjgI4YK\"\n",
    "access_token_secret  = \"xN1dnpz6SvKd3hIUy0MlR09rAIkLqbl7QiQhH09xxE9sI\"\n",
    "_auth_ = tweepy.OAuthHandler(consumer_key, consumer_secret)\n",
    "_auth_.set_access_token(access_token, access_token_secret)\n",
    "api = tweepy.API(_auth_)\n",
    "tweets = api.search(\"gully boy\")"
   ]
  },
  {
   "cell_type": "code",
   "execution_count": 6,
   "metadata": {},
   "outputs": [],
   "source": [
    "proc_tweets=[tweet.text for tweet in tweets if tweet.lang== 'en']"
   ]
  },
  {
   "cell_type": "code",
   "execution_count": 7,
   "metadata": {},
   "outputs": [
    {
     "data": {
      "text/plain": [
       "['@aliaa08 @ritesh_sid @FarOutAkhtar @excelmovies @RanveerOfficial @ZeeMusicCompany @VivianDivine @ankurtewari… https://t.co/iJqXya0drj',\n",
       " 'RT @news18dotcom: .@MumbaiPolice is quite famous among the Twitteratis for their millennial approach to convey the message to the target au…',\n",
       " 'Asli Hip Hop (Gully boy) | Full Rap With Lyrics | Apna time aye ga: https://t.co/gAkqXDp798 via @YouTube',\n",
       " 'Dwnld Old Hindi Songs\\n#indian_old_song #old_indian_songs #old_indian_movies #Gully_Boy #ManikarnikaTrailer… https://t.co/c3pQCzVpog',\n",
       " 'Download New Hindi Movies\\n#Free_Full_Movies #New_Hindi_Movies #Romantic_New_Hindi_Movies #Gully_Boy… https://t.co/0jp4N6dbIL',\n",
       " 'Download New Hindi Movies\\n#Free_Full_Movies #New_Hindi_Movies #Romantic_New_Hindi_Movies #Gully_Boy… https://t.co/JfdQJP2XMK',\n",
       " 'Download New Punjabi Movies\\nhttps://t.co/zRvDzAfDPf\\n#New_Punjabi_Movies #Free_Full_Movie #Watch_Full_Movie… https://t.co/BJDFYthPdD',\n",
       " 'Download Hindi Sad Songs\\nhttps://t.co/afYS824jLa\\n#Hindi_Sad_Songs #Hindi_Sad_Songs_Collection_Offline… https://t.co/wHGgSFXTAP',\n",
       " 'Download Hindi Romantic Songs\\nhttps://t.co/Vo0wKC7Ul6\\n#Hindi_Romantic_Songs #Love_Songs #New_Hindi_Songs… https://t.co/yXPFREdy3X',\n",
       " 'Download New Hindi Movies \\nhttps://t.co/DxszHpulep\\n#Free_Movies_Online #New_Hindi_Movies… https://t.co/L9f1AEbOok',\n",
       " 'Download https://t.co/okaJaPGhOD App\\nhttps://t.co/imuBjz202b\\n#SongsPk_New_Hindi_Songs #songspk #Best_SongsPK_App… https://t.co/sn6UH5rGny',\n",
       " 'Download New Hindi Songs\\nhttps://t.co/EbZGTbP2iv\\n#New_Hindi_Songs #NewHindiSongs #New_Songs #New_Songs_2017… https://t.co/iQ1OMyp8kY',\n",
       " 'Download New &amp; Old Tamil Songs\\nhttps://t.co/x9ZjHZXi3Z\\n#TamilSongs #Tamil_Songs #New_Tamil_Songs_Free_Download_2017… https://t.co/HfmFXttcXB',\n",
       " 'Download Arijit Singh All Songs\\nhttps://t.co/gnvJGsKYFa\\n#arijitsinghallsongs #arijit_singh_all_songs… https://t.co/DXKZDm9P09']"
      ]
     },
     "execution_count": 7,
     "metadata": {},
     "output_type": "execute_result"
    }
   ],
   "source": [
    "proc_tweets"
   ]
  },
  {
   "cell_type": "code",
   "execution_count": 8,
   "metadata": {},
   "outputs": [],
   "source": [
    "from textblob import TextBlob "
   ]
  },
  {
   "cell_type": "code",
   "execution_count": 9,
   "metadata": {},
   "outputs": [
    {
     "data": {
      "text/plain": [
       "0.7"
      ]
     },
     "execution_count": 9,
     "metadata": {},
     "output_type": "execute_result"
    }
   ],
   "source": [
    "TextBlob(\"good\").sentiment.polarity"
   ]
  },
  {
   "cell_type": "code",
   "execution_count": 10,
   "metadata": {},
   "outputs": [
    {
     "data": {
      "text/plain": [
       "-0.6999999999999998"
      ]
     },
     "execution_count": 10,
     "metadata": {},
     "output_type": "execute_result"
    }
   ],
   "source": [
    "TextBlob(\"bad\").sentiment.polarity"
   ]
  },
  {
   "cell_type": "code",
   "execution_count": 11,
   "metadata": {},
   "outputs": [
    {
     "data": {
      "text/plain": [
       "1.0"
      ]
     },
     "execution_count": 11,
     "metadata": {},
     "output_type": "execute_result"
    }
   ],
   "source": [
    "TextBlob(\"best\").sentiment.polarity"
   ]
  },
  {
   "cell_type": "code",
   "execution_count": 12,
   "metadata": {},
   "outputs": [
    {
     "data": {
      "text/plain": [
       "-1.0"
      ]
     },
     "execution_count": 12,
     "metadata": {},
     "output_type": "execute_result"
    }
   ],
   "source": [
    "TextBlob(\"worst\").sentiment.polarity"
   ]
  },
  {
   "cell_type": "code",
   "execution_count": null,
   "metadata": {},
   "outputs": [],
   "source": [
    "#<word form=\"alleviated\" cornetto_synset_id=\"n_a-521937\" wordnet_id=\"a-01519465\" pos=\"JJ\" sense=\"(of pain or sorrow) made easier to bear\" polarity=\"0.5\" subjectivity=\"0.8\" intensity=\"1.0\" confidence=\"0.8\" />\n"
   ]
  },
  {
   "cell_type": "code",
   "execution_count": 13,
   "metadata": {},
   "outputs": [
    {
     "data": {
      "text/plain": [
       "[['@aliaa08 @ritesh_sid @FarOutAkhtar @excelmovies @RanveerOfficial @ZeeMusicCompany @VivianDivine @ankurtewari… https://t.co/iJqXya0drj',\n",
       "  0.0],\n",
       " ['RT @news18dotcom: .@MumbaiPolice is quite famous among the Twitteratis for their millennial approach to convey the message to the target au…',\n",
       "  0.5],\n",
       " ['Asli Hip Hop (Gully boy) | Full Rap With Lyrics | Apna time aye ga: https://t.co/gAkqXDp798 via @YouTube',\n",
       "  0.35],\n",
       " ['Dwnld Old Hindi Songs\\n#indian_old_song #old_indian_songs #old_indian_movies #Gully_Boy #ManikarnikaTrailer… https://t.co/c3pQCzVpog',\n",
       "  0.1],\n",
       " ['Download New Hindi Movies\\n#Free_Full_Movies #New_Hindi_Movies #Romantic_New_Hindi_Movies #Gully_Boy… https://t.co/0jp4N6dbIL',\n",
       "  0.13636363636363635],\n",
       " ['Download New Hindi Movies\\n#Free_Full_Movies #New_Hindi_Movies #Romantic_New_Hindi_Movies #Gully_Boy… https://t.co/JfdQJP2XMK',\n",
       "  0.13636363636363635],\n",
       " ['Download New Punjabi Movies\\nhttps://t.co/zRvDzAfDPf\\n#New_Punjabi_Movies #Free_Full_Movie #Watch_Full_Movie… https://t.co/BJDFYthPdD',\n",
       "  0.13636363636363635],\n",
       " ['Download Hindi Sad Songs\\nhttps://t.co/afYS824jLa\\n#Hindi_Sad_Songs #Hindi_Sad_Songs_Collection_Offline… https://t.co/wHGgSFXTAP',\n",
       "  -0.5],\n",
       " ['Download Hindi Romantic Songs\\nhttps://t.co/Vo0wKC7Ul6\\n#Hindi_Romantic_Songs #Love_Songs #New_Hindi_Songs… https://t.co/yXPFREdy3X',\n",
       "  0.0],\n",
       " ['Download New Hindi Movies \\nhttps://t.co/DxszHpulep\\n#Free_Movies_Online #New_Hindi_Movies… https://t.co/L9f1AEbOok',\n",
       "  0.13636363636363635],\n",
       " ['Download https://t.co/okaJaPGhOD App\\nhttps://t.co/imuBjz202b\\n#SongsPk_New_Hindi_Songs #songspk #Best_SongsPK_App… https://t.co/sn6UH5rGny',\n",
       "  0.0],\n",
       " ['Download New Hindi Songs\\nhttps://t.co/EbZGTbP2iv\\n#New_Hindi_Songs #NewHindiSongs #New_Songs #New_Songs_2017… https://t.co/iQ1OMyp8kY',\n",
       "  0.13636363636363635],\n",
       " ['Download New &amp; Old Tamil Songs\\nhttps://t.co/x9ZjHZXi3Z\\n#TamilSongs #Tamil_Songs #New_Tamil_Songs_Free_Download_2017… https://t.co/HfmFXttcXB',\n",
       "  0.11818181818181818],\n",
       " ['Download Arijit Singh All Songs\\nhttps://t.co/gnvJGsKYFa\\n#arijitsinghallsongs #arijit_singh_all_songs… https://t.co/DXKZDm9P09',\n",
       "  0.0]]"
      ]
     },
     "execution_count": 13,
     "metadata": {},
     "output_type": "execute_result"
    }
   ],
   "source": [
    "[[i,TextBlob(i).sentiment.polarity] for i in proc_tweets]"
   ]
  },
  {
   "cell_type": "code",
   "execution_count": 14,
   "metadata": {},
   "outputs": [],
   "source": [
    "wpol = [[i,TextBlob(i).sentiment.polarity] for i in proc_tweets]"
   ]
  },
  {
   "cell_type": "code",
   "execution_count": 15,
   "metadata": {},
   "outputs": [
    {
     "data": {
      "text/plain": [
       "['Download Hindi Sad Songs\\nhttps://t.co/afYS824jLa\\n#Hindi_Sad_Songs #Hindi_Sad_Songs_Collection_Offline… https://t.co/wHGgSFXTAP']"
      ]
     },
     "execution_count": 15,
     "metadata": {},
     "output_type": "execute_result"
    }
   ],
   "source": [
    "[i for i,j in wpol if j<0] \n",
    "#wpol\n"
   ]
  },
  {
   "cell_type": "code",
   "execution_count": 16,
   "metadata": {},
   "outputs": [
    {
     "data": {
      "text/plain": [
       "['@aliaa08 @ritesh_sid @FarOutAkhtar @excelmovies @RanveerOfficial @ZeeMusicCompany @VivianDivine @ankurtewari… https://t.co/iJqXya0drj',\n",
       " 'Download Hindi Romantic Songs\\nhttps://t.co/Vo0wKC7Ul6\\n#Hindi_Romantic_Songs #Love_Songs #New_Hindi_Songs… https://t.co/yXPFREdy3X',\n",
       " 'Download https://t.co/okaJaPGhOD App\\nhttps://t.co/imuBjz202b\\n#SongsPk_New_Hindi_Songs #songspk #Best_SongsPK_App… https://t.co/sn6UH5rGny',\n",
       " 'Download Arijit Singh All Songs\\nhttps://t.co/gnvJGsKYFa\\n#arijitsinghallsongs #arijit_singh_all_songs… https://t.co/DXKZDm9P09']"
      ]
     },
     "execution_count": 16,
     "metadata": {},
     "output_type": "execute_result"
    }
   ],
   "source": [
    "[i for i,j in wpol if j==0] "
   ]
  },
  {
   "cell_type": "code",
   "execution_count": 17,
   "metadata": {
    "scrolled": true
   },
   "outputs": [
    {
     "data": {
      "text/plain": [
       "['RT @news18dotcom: .@MumbaiPolice is quite famous among the Twitteratis for their millennial approach to convey the message to the target au…',\n",
       " 'Asli Hip Hop (Gully boy) | Full Rap With Lyrics | Apna time aye ga: https://t.co/gAkqXDp798 via @YouTube',\n",
       " 'Dwnld Old Hindi Songs\\n#indian_old_song #old_indian_songs #old_indian_movies #Gully_Boy #ManikarnikaTrailer… https://t.co/c3pQCzVpog',\n",
       " 'Download New Hindi Movies\\n#Free_Full_Movies #New_Hindi_Movies #Romantic_New_Hindi_Movies #Gully_Boy… https://t.co/0jp4N6dbIL',\n",
       " 'Download New Hindi Movies\\n#Free_Full_Movies #New_Hindi_Movies #Romantic_New_Hindi_Movies #Gully_Boy… https://t.co/JfdQJP2XMK',\n",
       " 'Download New Punjabi Movies\\nhttps://t.co/zRvDzAfDPf\\n#New_Punjabi_Movies #Free_Full_Movie #Watch_Full_Movie… https://t.co/BJDFYthPdD',\n",
       " 'Download New Hindi Movies \\nhttps://t.co/DxszHpulep\\n#Free_Movies_Online #New_Hindi_Movies… https://t.co/L9f1AEbOok',\n",
       " 'Download New Hindi Songs\\nhttps://t.co/EbZGTbP2iv\\n#New_Hindi_Songs #NewHindiSongs #New_Songs #New_Songs_2017… https://t.co/iQ1OMyp8kY',\n",
       " 'Download New &amp; Old Tamil Songs\\nhttps://t.co/x9ZjHZXi3Z\\n#TamilSongs #Tamil_Songs #New_Tamil_Songs_Free_Download_2017… https://t.co/HfmFXttcXB']"
      ]
     },
     "execution_count": 17,
     "metadata": {},
     "output_type": "execute_result"
    }
   ],
   "source": [
    "[i for i,j in wpol if j>0] "
   ]
  },
  {
   "cell_type": "code",
   "execution_count": 18,
   "metadata": {},
   "outputs": [],
   "source": [
    "neg = [i for i,j in wpol if j<0] \n",
    "neu = [i for i,j in wpol if j==0] \n",
    "pos = [i for i,j in wpol if j>0] "
   ]
  },
  {
   "cell_type": "code",
   "execution_count": 19,
   "metadata": {},
   "outputs": [
    {
     "data": {
      "text/plain": [
       "1"
      ]
     },
     "execution_count": 19,
     "metadata": {},
     "output_type": "execute_result"
    }
   ],
   "source": [
    "len(neg)"
   ]
  },
  {
   "cell_type": "code",
   "execution_count": 20,
   "metadata": {},
   "outputs": [
    {
     "data": {
      "text/plain": [
       "4"
      ]
     },
     "execution_count": 20,
     "metadata": {},
     "output_type": "execute_result"
    }
   ],
   "source": [
    "len(neu)"
   ]
  },
  {
   "cell_type": "code",
   "execution_count": 21,
   "metadata": {},
   "outputs": [
    {
     "data": {
      "text/plain": [
       "9"
      ]
     },
     "execution_count": 21,
     "metadata": {},
     "output_type": "execute_result"
    }
   ],
   "source": [
    "len(pos)"
   ]
  },
  {
   "cell_type": "code",
   "execution_count": 22,
   "metadata": {},
   "outputs": [],
   "source": [
    "sentiments= [len(neg),len(neu),len(pos)]"
   ]
  },
  {
   "cell_type": "code",
   "execution_count": 23,
   "metadata": {},
   "outputs": [
    {
     "name": "stdout",
     "output_type": "stream",
     "text": [
      "[1, 4, 9]\n"
     ]
    }
   ],
   "source": [
    "print (sentiments)"
   ]
  },
  {
   "cell_type": "code",
   "execution_count": 24,
   "metadata": {},
   "outputs": [],
   "source": [
    "import matplotlib.pyplot as plt"
   ]
  },
  {
   "cell_type": "code",
   "execution_count": 25,
   "metadata": {},
   "outputs": [],
   "source": [
    "labels = 'Negative','Neutral',' Postive'"
   ]
  },
  {
   "cell_type": "code",
   "execution_count": 27,
   "metadata": {},
   "outputs": [
    {
     "data": {
      "image/png": "[encoded data removed]",
      "text/plain": [
       "<Figure size 432x288 with 1 Axes>"
      ]
     },
     "metadata": {},
     "output_type": "display_data"
    }
   ],
   "source": [
    "fig1, ax1 = plt.subplots()\n",
    "ax1.pie(sentiments, labels=labels,colors=['r','y','g'],\n",
    "        shadow=True, startangle=90)\n",
    "plt.title=('Sentiment Analysis')\n",
    "plt.show()"
   ]
  },
  {
   "cell_type": "code",
   "execution_count": null,
   "metadata": {},
   "outputs": [],
   "source": []
  }
 ],
 "metadata": {
  "kernelspec": {
   "display_name": "Python 3",
   "language": "python",
   "name": "python3"
  },
  "language_info": {
   "codemirror_mode": {
    "name": "ipython",
    "version": 3
   },
   "file_extension": ".py",
   "mimetype": "text/x-python",
   "name": "python",
   "nbconvert_exporter": "python",
   "pygments_lexer": "ipython3",
   "version": "3.6.8"
  }
 },
 "nbformat": 4,
 "nbformat_minor": 2
}
