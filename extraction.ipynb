{
 "cells": [
  {
   "cell_type": "code",
   "execution_count": 8,
   "metadata": {},
   "outputs": [
    {
     "ename": "NameError",
     "evalue": "name 'searchstring' is not defined",
     "output_type": "error",
     "traceback": [
      "\u001b[0;31m---------------------------------------------------------------------------\u001b[0m",
      "\u001b[0;31mNameError\u001b[0m                                 Traceback (most recent call last)",
      "\u001b[0;32m<ipython-input-8-e436186e4155>\u001b[0m in \u001b[0;36m<module>\u001b[0;34m()\u001b[0m\n\u001b[1;32m     28\u001b[0m \u001b[0mapi\u001b[0m \u001b[0;34m=\u001b[0m \u001b[0mtweepy\u001b[0m\u001b[0;34m.\u001b[0m\u001b[0mAPI\u001b[0m\u001b[0;34m(\u001b[0m\u001b[0mauth\u001b[0m\u001b[0;34m,\u001b[0m\u001b[0mwait_on_rate_limit\u001b[0m\u001b[0;34m=\u001b[0m\u001b[0;32mTrue\u001b[0m\u001b[0;34m)\u001b[0m\u001b[0;34m\u001b[0m\u001b[0m\n\u001b[1;32m     29\u001b[0m \u001b[0;34m\u001b[0m\u001b[0m\n\u001b[0;32m---> 30\u001b[0;31m \u001b[0mfile\u001b[0m \u001b[0;34m=\u001b[0m \u001b[0mopen\u001b[0m\u001b[0;34m(\u001b[0m\u001b[0mstr\u001b[0m\u001b[0;34m(\u001b[0m\u001b[0msearchstring\u001b[0m\u001b[0;34m)\u001b[0m\u001b[0;34m+\u001b[0m\u001b[0;34m'.csv'\u001b[0m\u001b[0;34m,\u001b[0m \u001b[0;34m'w'\u001b[0m\u001b[0;34m)\u001b[0m\u001b[0;34m\u001b[0m\u001b[0m\n\u001b[0m\u001b[1;32m     31\u001b[0m \u001b[0mfile\u001b[0m\u001b[0;34m.\u001b[0m\u001b[0mwritelines\u001b[0m\u001b[0;34m(\u001b[0m\u001b[0;34m'text'\u001b[0m\u001b[0;34m+\u001b[0m\u001b[0;34m'\\n'\u001b[0m\u001b[0;34m)\u001b[0m\u001b[0;34m\u001b[0m\u001b[0m\n\u001b[1;32m     32\u001b[0m \u001b[0mfile\u001b[0m\u001b[0;34m.\u001b[0m\u001b[0mclose\u001b[0m\u001b[0;34m(\u001b[0m\u001b[0;34m)\u001b[0m\u001b[0;34m\u001b[0m\u001b[0m\n",
      "\u001b[0;31mNameError\u001b[0m: name 'searchstring' is not defined"
     ]
    }
   ],
   "source": [
    "def extractfn(searchstring,datelimit):\n",
    "    # remove previous files\n",
    "    import os\n",
    "    oldfiles = os.listdir()\n",
    "    delfiles = [i for i in oldfiles if i.endswith('.png') or i.endswith('.pptx')or i.endswith('.csv')]\n",
    "    [os.remove(i) for i in delfiles]\n",
    "      \n",
    "    import os\n",
    "    import datetime\n",
    "    datelimit = str(datetime.date.today() + datetime.timedelta(-int(datelimit))) #today minus 1 days\n",
    "    # print (datelimit)\n",
    "    starttime = datetime.datetime.now()\n",
    "    try:\n",
    "        os.system(\"pip install -r requirements.txt\")\n",
    "        os.system(\"cls\")\n",
    "    except: pass\n",
    "  \n",
    "import tweepy\n",
    "import csv\n",
    "  \n",
    "#credentials\n",
    "consumer_key = \"xydSNCHSXfxQy9OjrkMxOl2NL\"\n",
    "consumer_secret = \"SQJirubS0PZl49zMbWnQgqHbyuRUIi3L9oWFWB8ncl05RoxcrF\"\n",
    "access_token = \"574351903-SirnPuk7fIlK3jv291U0rEHKkiXuOchA6RjgI4YK\"\n",
    "access_token_secret  = \"xN1dnpz6SvKd3hIUy0MlR09rAIkLqbl7QiQhH09xxE9sI\"\n",
    "auth = tweepy.OAuthHandler(consumer_key, consumer_secret)\n",
    "auth.set_access_token(access_token, access_token_secret)\n",
    "api = tweepy.API(auth,wait_on_rate_limit=True)\n",
    "  \n",
    "file = open(str(searchstring)+'.csv', 'w')\n",
    "file.writelines('text'+'\\n')\n",
    "file.close()\n",
    "  \n",
    "csvFile = open(str(searchstring)+'.csv', 'a')\n",
    "  \n",
    "csvWriter = csv.writer(csvFile)\n",
    "try:\n",
    "    for tweet in tweepy.Cursor(api.search,q=searchstring,count=100,lang=\"en\",since=datelimit).items():\n",
    "        print (tweet.text)\n",
    "        csvWriter.writerow([tweet.text.encode('utf-8')])\n",
    "except: pass\n",
    "try:\n",
    "    os.system(\"pip freeze > requirements.txt\")\n",
    "except: pass\n",
    "      \n",
    "Endtime = datetime.datetime.now()\n",
    "print(\"Extraction started at \" + str(starttime) + \" ended at\"+ str(Endtime))\n",
    "    #"
   ]
  },
  {
   "cell_type": "code",
   "execution_count": null,
   "metadata": {},
   "outputs": [],
   "source": []
  },
  {
   "cell_type": "code",
   "execution_count": null,
   "metadata": {},
   "outputs": [],
   "source": []
  }
 ],
 "metadata": {
  "kernelspec": {
   "display_name": "Python 3",
   "language": "python",
   "name": "python3"
  },
  "language_info": {
   "codemirror_mode": {
    "name": "ipython",
    "version": 3
   },
   "file_extension": ".py",
   "mimetype": "text/x-python",
   "name": "python",
   "nbconvert_exporter": "python",
   "pygments_lexer": "ipython3",
   "version": "3.6.5"
  }
 },
 "nbformat": 4,
 "nbformat_minor": 2
}
